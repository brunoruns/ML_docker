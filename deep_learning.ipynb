{
 "cells": [
  {
   "attachments": {},
   "cell_type": "markdown",
   "metadata": {},
   "source": [
    "# Deep Learning practical advice\n",
    "This notebook Will be used to show how to create a neural network using Keras. This code will then transported into a Python script, which will be deployed using a Docker container.\n",
    "\n",
    "## Make a model\n",
    "We will build a simple nueral network following the Keras API. We will use the Sequential API to create a sequential model. More details can be followed in HOML (Aurélien Géron)."
   ]
  },
  {
   "attachments": {},
   "cell_type": "markdown",
   "metadata": {},
   "source": [
    "You need a conda environment:\n",
    "- conda create --name deep-learning-env\n",
    "- conda activate deep-learning-env\n",
    "- conda install -c conda-forge tensorflow\n",
    "\n",
    "Afterwards you can write these requirements to a file: \n",
    "- conda env export -n deep-learning-env -f requirements.txt\n",
    "\n",
    "Reload from this file:\n",
    "- ...\n"
   ]
  },
  {
   "cell_type": "code",
   "execution_count": 1,
   "metadata": {},
   "outputs": [
    {
     "name": "stderr",
     "output_type": "stream",
     "text": [
      "2023-03-17 14:14:34.301237: I tensorflow/core/platform/cpu_feature_guard.cc:193] This TensorFlow binary is optimized with oneAPI Deep Neural Network Library (oneDNN) to use the following CPU instructions in performance-critical operations:  SSE4.1 SSE4.2 AVX\n",
      "To enable them in other operations, rebuild TensorFlow with the appropriate compiler flags.\n"
     ]
    },
    {
     "data": {
      "text/plain": [
       "'2.11.0'"
      ]
     },
     "execution_count": 1,
     "metadata": {},
     "output_type": "execute_result"
    }
   ],
   "source": [
    "import tensorflow as tf\n",
    "from tensorflow import keras\n",
    "tf.__version__"
   ]
  },
  {
   "cell_type": "code",
   "execution_count": 2,
   "metadata": {},
   "outputs": [],
   "source": [
    "fashion_mnist = keras.datasets.fashion_mnist\n",
    "(X_train_full, y_train_full), (X_test, y_test) = fashion_mnist.load_data()"
   ]
  },
  {
   "cell_type": "code",
   "execution_count": 3,
   "metadata": {},
   "outputs": [
    {
     "data": {
      "text/plain": [
       "(60000, 28, 28)"
      ]
     },
     "execution_count": 3,
     "metadata": {},
     "output_type": "execute_result"
    }
   ],
   "source": [
    "#size of the dataset:\n",
    "X_train_full.shape"
   ]
  },
  {
   "attachments": {},
   "cell_type": "markdown",
   "metadata": {},
   "source": [
    "So the images are stores as 28 by 28 matrices. reshaping them to 1 by 784 will be done later. You could also use a convolutional neural network (noty in scope here)."
   ]
  },
  {
   "cell_type": "code",
   "execution_count": 4,
   "metadata": {},
   "outputs": [
    {
     "data": {
      "text/plain": [
       "dtype('uint8')"
      ]
     },
     "execution_count": 4,
     "metadata": {},
     "output_type": "execute_result"
    }
   ],
   "source": [
    "#size of the dataset:\n",
    "X_train_full.dtype"
   ]
  },
  {
   "cell_type": "code",
   "execution_count": 5,
   "metadata": {},
   "outputs": [],
   "source": [
    "# creating a validation set, because it is not given:\n",
    "X_valid, X_train = X_train_full[:5000] / 255.0, X_train_full[5000:] / 255.0\n",
    "y_valid, y_train = y_train_full[:5000] / 255.0, y_train_full[5000:] / 255.0\n",
    "X_test = X_test / 255.0 "
   ]
  },
  {
   "cell_type": "code",
   "execution_count": 6,
   "metadata": {},
   "outputs": [],
   "source": [
    "class_names = [\"tshirt\", \"trouser\", \"pullover\", \"dress\", \"coat\", \"sandal\",\n",
    "                \"shirt\", \"sneaker\", \"bag\", \"ankle boot\"]"
   ]
  },
  {
   "attachments": {},
   "cell_type": "markdown",
   "metadata": {},
   "source": [
    "### Building the neural network!"
   ]
  },
  {
   "cell_type": "code",
   "execution_count": 7,
   "metadata": {},
   "outputs": [
    {
     "name": "stdout",
     "output_type": "stream",
     "text": [
      "Model: \"sequential\"\n",
      "_________________________________________________________________\n",
      " Layer (type)                Output Shape              Param #   \n",
      "=================================================================\n",
      " flatten (Flatten)           (None, 784)               0         \n",
      "                                                                 \n",
      " dense (Dense)               (None, 300)               235500    \n",
      "                                                                 \n",
      " dense_1 (Dense)             (None, 100)               30100     \n",
      "                                                                 \n",
      " dense_2 (Dense)             (None, 10)                1010      \n",
      "                                                                 \n",
      "=================================================================\n",
      "Total params: 266,610\n",
      "Trainable params: 266,610\n",
      "Non-trainable params: 0\n",
      "_________________________________________________________________\n"
     ]
    },
    {
     "name": "stderr",
     "output_type": "stream",
     "text": [
      "2023-03-17 14:14:40.170129: I tensorflow/core/platform/cpu_feature_guard.cc:193] This TensorFlow binary is optimized with oneAPI Deep Neural Network Library (oneDNN) to use the following CPU instructions in performance-critical operations:  SSE4.1 SSE4.2 AVX\n",
      "To enable them in other operations, rebuild TensorFlow with the appropriate compiler flags.\n"
     ]
    }
   ],
   "source": [
    "model = keras.models.Sequential()\n",
    "model.add(keras.layers.Flatten(input_shape=[28,28]))\n",
    "model.add(keras.layers.Dense(300, activation='relu'))\n",
    "model.add(keras.layers.Dense(100, activation='relu'))\n",
    "model.add(keras.layers.Dense(10, activation='softmax')) #10 classes of output!\n",
    "\n",
    "model.summary()"
   ]
  },
  {
   "attachments": {},
   "cell_type": "markdown",
   "metadata": {},
   "source": [
    "To inspect the model: "
   ]
  },
  {
   "cell_type": "code",
   "execution_count": 8,
   "metadata": {},
   "outputs": [
    {
     "data": {
      "text/plain": [
       "(784, 300)"
      ]
     },
     "execution_count": 8,
     "metadata": {},
     "output_type": "execute_result"
    }
   ],
   "source": [
    "model.layers\n",
    "weights, biases = model.layers[1].get_weights()\n",
    "weights.shape\n",
    "#biases.shape"
   ]
  },
  {
   "cell_type": "code",
   "execution_count": 9,
   "metadata": {},
   "outputs": [
    {
     "data": {
      "image/png": "[encoded data removed]",
      "text/plain": [
       "<IPython.core.display.Image object>"
      ]
     },
     "execution_count": 9,
     "metadata": {},
     "output_type": "execute_result"
    }
   ],
   "source": [
    "keras.utils.plot_model(model)"
   ]
  },
  {
   "attachments": {},
   "cell_type": "markdown",
   "metadata": {},
   "source": [
    "### Compiling\n",
    "Compile: specify the loss function and the optimizer to use.\n",
    "\n",
    "LOSS FUNCTIONS:\n",
    "More on the losses functions: http://keras.io/losses/\n",
    "- sparse categorical crossentropy: https://keras.io/api/losses/probabilistic_losses/#sparsecategoricalcrossentropy-class: use this when there are more than 2 classes. If we had one-hot vectors, yous hould use categorical crossentropy.\n",
    "- cross-entropy is actually using the maximum likelihood estimation of the probability distribution. The two are the same in this case: https://machinelearningmastery.com/loss-and-loss-functions-for-training-deep-learning-neural-networks/#:~:text=Cross%2Dentropy%20and%20mean%20squared,when%20training%20neural%20network%20models.\n",
    "- The cost function should put all good and bad aspects of a prediction in a single number. This is no trivial task.\n",
    "\n",
    "OPTIMIZERS: \n",
    "This provides alternatives (https://keras.io/api/optimizers/) to the classical Gradient Descent:\n",
    "- momentum optimization\n",
    "- Nesterov accelerated gradient descent\n",
    "- AdaGrad\n",
    "- RMSprop\n",
    "- Adam - very often used in deep learning\n",
    "- Nadam\n",
    "\n",
    "METRICS: https://keras.io/api/metrics/ - metrics are used to evaluate the performance of the model. They are not used to train the model, that is done with the loss function.More than one metric can be used.\n",
    "- accuracy: https://keras.io/api/metrics/\n",
    "- AUC / ROC: https://en.wikipedia.org/wiki/Receiver_operating_characteristic\n",
    "- MSE, MAE: https://en.wikipedia.org/wiki/Mean_absolute_error\n",
    "- ..."
   ]
  },
  {
   "cell_type": "code",
   "execution_count": 10,
   "metadata": {},
   "outputs": [],
   "source": [
    "model.compile(loss='sparse_categorical_crossentropy', optimizer='adam', metrics=['accuracy'])"
   ]
  },
  {
   "attachments": {},
   "cell_type": "markdown",
   "metadata": {},
   "source": [
    "### Typical loss functions:\n",
    "- Regression: Mean Squared Error MSE\n",
    "- Binary classification: Cross Entropy, also referred to as Log Loss. Use a sigmoid activation function in the last layer.\n",
    "- multiclass classification: Cross Entropy, also referred to as Log Loss. Use the softmax actiovation function in the last layer\n",
    "\n",
    "More info cross entropy: https://en.wikipedia.org/wiki/Cross_entropy"
   ]
  },
  {
   "attachments": {},
   "cell_type": "markdown",
   "metadata": {},
   "source": [
    "## Training the model\n",
    "\n",
    "Epochs: a full pass over the training set. 30 - 100 is standard"
   ]
  },
  {
   "cell_type": "code",
   "execution_count": 11,
   "metadata": {},
   "outputs": [
    {
     "name": "stdout",
     "output_type": "stream",
     "text": [
      "Epoch 1/3\n"
     ]
    },
    {
     "name": "stderr",
     "output_type": "stream",
     "text": [
      "2023-03-17 14:14:41.165529: W tensorflow/tsl/framework/cpu_allocator_impl.cc:82] Allocation of 172480000 exceeds 10% of free system memory.\n"
     ]
    },
    {
     "name": "stdout",
     "output_type": "stream",
     "text": [
      "1719/1719 [==============================] - 19s 10ms/step - loss: 0.0027 - accuracy: 0.1007 - val_loss: 3.9553e-08 - val_accuracy: 0.0914\n",
      "Epoch 2/3\n",
      "1719/1719 [==============================] - 20s 12ms/step - loss: 6.5156e-08 - accuracy: 0.1008 - val_loss: 1.5497e-09 - val_accuracy: 0.0914\n",
      "Epoch 3/3\n",
      "1719/1719 [==============================] - 19s 11ms/step - loss: 1.3632e-08 - accuracy: 0.1008 - val_loss: 5.2452e-10 - val_accuracy: 0.0914\n"
     ]
    }
   ],
   "source": [
    "history = model.fit(X_train,y_train, epochs=3, validation_data=(X_valid,y_valid))"
   ]
  },
  {
   "attachments": {},
   "cell_type": "markdown",
   "metadata": {},
   "source": [
    "You can use the history object to plot the resulting graph, this is insightfull of how well the model works:"
   ]
  },
  {
   "cell_type": "code",
   "execution_count": 14,
   "metadata": {},
   "outputs": [
    {
     "ename": "AttributeError",
     "evalue": "module 'matplotlib' has no attribute 'show'",
     "output_type": "error",
     "traceback": [
      "\u001b[0;31m---------------------------------------------------------------------------\u001b[0m",
      "\u001b[0;31mAttributeError\u001b[0m                            Traceback (most recent call last)",
      "Cell \u001b[0;32mIn[14], line 7\u001b[0m\n\u001b[1;32m      4\u001b[0m pd\u001b[39m.\u001b[39mDataFrame(history\u001b[39m.\u001b[39mhistory)\u001b[39m.\u001b[39mplot(figsize\u001b[39m=\u001b[39m(\u001b[39m3\u001b[39m,\u001b[39m5\u001b[39m))\n\u001b[1;32m      5\u001b[0m \u001b[39m#plt.grid(True)\u001b[39;00m\n\u001b[1;32m      6\u001b[0m \u001b[39m#plt.gca().setylim(0,1)\u001b[39;00m\n\u001b[0;32m----> 7\u001b[0m plt\u001b[39m.\u001b[39;49mshow()\n",
      "File \u001b[0;32m~/miniconda3/envs/deep-learning-env/lib/python3.10/site-packages/matplotlib/_api/__init__.py:226\u001b[0m, in \u001b[0;36mcaching_module_getattr.<locals>.__getattr__\u001b[0;34m(name)\u001b[0m\n\u001b[1;32m    224\u001b[0m \u001b[39mif\u001b[39;00m name \u001b[39min\u001b[39;00m props:\n\u001b[1;32m    225\u001b[0m     \u001b[39mreturn\u001b[39;00m props[name]\u001b[39m.\u001b[39m\u001b[39m__get__\u001b[39m(instance)\n\u001b[0;32m--> 226\u001b[0m \u001b[39mraise\u001b[39;00m \u001b[39mAttributeError\u001b[39;00m(\n\u001b[1;32m    227\u001b[0m     \u001b[39mf\u001b[39m\u001b[39m\"\u001b[39m\u001b[39mmodule \u001b[39m\u001b[39m{\u001b[39;00m\u001b[39mcls\u001b[39m\u001b[39m.\u001b[39m\u001b[39m__module__\u001b[39m\u001b[39m!r}\u001b[39;00m\u001b[39m has no attribute \u001b[39m\u001b[39m{\u001b[39;00mname\u001b[39m!r}\u001b[39;00m\u001b[39m\"\u001b[39m)\n",
      "\u001b[0;31mAttributeError\u001b[0m: module 'matplotlib' has no attribute 'show'"
     ]
    },
    {
     "data": {
      "image/png": "[encoded data removed]",
      "text/plain": [
       "<Figure size 300x500 with 1 Axes>"
      ]
     },
     "metadata": {},
     "output_type": "display_data"
    }
   ],
   "source": [
    "import pandas as pd\n",
    "import matplotlib as plt\n",
    "\n",
    "#this code is outdated and will be removed in the future. Use Seaborn instead.\n",
    "pd.DataFrame(history.history).plot(figsize=(3,5))\n",
    "#plt.grid(True)\n",
    "#plt.gca().setylim(0,1)\n",
    "plt.show()"
   ]
  },
  {
   "attachments": {},
   "cell_type": "markdown",
   "metadata": {},
   "source": [
    "### Saving a trained model to disk:"
   ]
  },
  {
   "cell_type": "code",
   "execution_count": null,
   "metadata": {},
   "outputs": [],
   "source": [
    "model_save_location = \"deep_learning/Sequential_DNN_1.h5\"\n",
    "model.save(model_save_location)"
   ]
  },
  {
   "attachments": {},
   "cell_type": "markdown",
   "metadata": {},
   "source": [
    "### Loading a model from disk:"
   ]
  },
  {
   "cell_type": "code",
   "execution_count": null,
   "metadata": {},
   "outputs": [],
   "source": [
    "model2 = keras.models.load_model('deep_learning/Sequential_DNN_1.h5')"
   ]
  }
 ],
 "metadata": {
  "kernelspec": {
   "display_name": "data_science",
   "language": "python",
   "name": "python3"
  },
  "language_info": {
   "codemirror_mode": {
    "name": "ipython",
    "version": 3
   },
   "file_extension": ".py",
   "mimetype": "text/x-python",
   "name": "python",
   "nbconvert_exporter": "python",
   "pygments_lexer": "ipython3",
   "version": "3.10.9"
  },
  "orig_nbformat": 4
 },
 "nbformat": 4,
 "nbformat_minor": 2
}
